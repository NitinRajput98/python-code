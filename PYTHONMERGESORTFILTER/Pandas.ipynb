{
 "cells": [
  {
   "cell_type": "markdown",
   "metadata": {},
   "source": [
    "# Merge, Sort and Filter Data with Pandas"
   ]
  },
  {
   "cell_type": "code",
   "execution_count": 1,
   "metadata": {},
   "outputs": [],
   "source": [
    "# importing dependencies\n",
    "\n",
    "import pandas as pd\n",
    "import matplotlib.pyplot as plt\n",
    "import seaborn as sns"
   ]
  },
  {
   "cell_type": "code",
   "execution_count": 2,
   "metadata": {},
   "outputs": [],
   "source": [
    "# reading data into dataframe\n",
    "\n",
    "df_temp = pd.read_csv(r'tempYearly.csv')\n",
    "df_rain = pd.read_csv(r'rainYearly.csv')"
   ]
  },
  {
   "cell_type": "code",
   "execution_count": 3,
   "metadata": {},
   "outputs": [
    {
     "name": "stdout",
     "output_type": "stream",
     "text": [
      "    Year  Temperature\n",
      "0   1956        16.99\n",
      "1   1957        10.34\n",
      "2   1958        21.01\n",
      "3   1959        23.68\n",
      "4   1960        24.59\n",
      "..   ...          ...\n",
      "57  2013        26.41\n",
      "58  2014        11.24\n",
      "59  2015        48.27\n",
      "60  2016        20.29\n",
      "61  2017        13.81\n",
      "\n",
      "[62 rows x 2 columns]\n",
      "    Year  Rainfall\n",
      "0   1956      1.01\n",
      "1   1957      1.66\n",
      "2   1958      3.50\n",
      "3   1959      3.31\n",
      "4   1960      3.61\n",
      "..   ...       ...\n",
      "56  2013      1.50\n",
      "57  2014      1.76\n",
      "58  2015      6.73\n",
      "59  2016      3.21\n",
      "60  2017      2.00\n",
      "\n",
      "[61 rows x 2 columns]\n"
     ]
    }
   ],
   "source": [
    "# let's see the data\n",
    "\n",
    "print(df_temp)\n",
    "print(df_rain)"
   ]
  },
  {
   "cell_type": "code",
   "execution_count": 4,
   "metadata": {},
   "outputs": [
    {
     "data": {
      "image/png": "[encoded data removed]",
      "text/plain": [
       "<Figure size 432x288 with 1 Axes>"
      ]
     },
     "metadata": {
      "needs_background": "light"
     },
     "output_type": "display_data"
    }
   ],
   "source": [
    "# visualizing data for outliers\n",
    "\n",
    "df_rain.plot.scatter(x='Year',y='Rainfall',label='Rainfall and Year')\n",
    "plt.show()"
   ]
  },
  {
   "cell_type": "code",
   "execution_count": 5,
   "metadata": {},
   "outputs": [
    {
     "data": {
      "image/png": "[encoded data removed]",
      "text/plain": [
       "<Figure size 432x288 with 1 Axes>"
      ]
     },
     "metadata": {
      "needs_background": "light"
     },
     "output_type": "display_data"
    }
   ],
   "source": [
    "# visualizing data for outliers\n",
    "\n",
    "df_temp.plot.scatter(x='Year',y='Temperature',label='Temperature and Year')\n",
    "plt.show()"
   ]
  },
  {
   "cell_type": "code",
   "execution_count": 6,
   "metadata": {},
   "outputs": [],
   "source": [
    "# Using a Filter to remove outliers in the data\n",
    "\n",
    "df_temp_f = df_temp.query('Temperature<40 & Temperature>0')"
   ]
  },
  {
   "cell_type": "code",
   "execution_count": 7,
   "metadata": {},
   "outputs": [
    {
     "name": "stdout",
     "output_type": "stream",
     "text": [
      "    Year  Temperature\n",
      "0   1956        16.99\n",
      "1   1957        10.34\n",
      "2   1958        21.01\n",
      "3   1959        23.68\n",
      "4   1960        24.59\n",
      "5   1961        25.29\n",
      "6   1962         8.77\n",
      "7   1963        26.88\n",
      "8   1964        15.04\n",
      "9   1965        14.78\n",
      "10  1966        10.27\n",
      "11  1967        35.26\n",
      "12  1968        15.42\n",
      "13  1969        18.43\n",
      "14  1970        14.83\n",
      "16  1972        12.33\n",
      "17  1973        16.29\n",
      "18  1974        16.97\n",
      "20  1976        17.92\n",
      "21  1977        20.29\n",
      "22  1978        15.77\n",
      "23  1979        39.42\n",
      "24  1980        19.82\n",
      "25  1981        17.81\n",
      "26  1982        13.37\n",
      "27  1983        12.69\n",
      "28  1984        21.70\n",
      "29  1985        19.65\n",
      "30  1986         9.55\n",
      "31  1987        18.35\n",
      "32  1988        15.06\n",
      "33  1989        20.69\n",
      "34  1990        17.78\n",
      "35  1991        24.06\n",
      "36  1992        16.31\n",
      "37  1993        16.93\n",
      "38  1994        18.69\n",
      "39  1995        31.27\n",
      "40  1996        16.04\n",
      "41  1997        17.46\n",
      "42  1998        13.94\n",
      "43  1999         9.68\n",
      "44  2000        30.40\n",
      "45  2001        18.29\n",
      "46  2002        22.23\n",
      "47  2003        32.40\n",
      "48  2004        28.55\n",
      "49  2005        18.04\n",
      "50  2006        12.54\n",
      "51  2007        10.29\n",
      "52  2008        34.81\n",
      "53  2009         9.94\n",
      "54  2010        25.56\n",
      "55  2011        19.49\n",
      "56  2012        38.01\n",
      "57  2013        26.41\n",
      "58  2014        11.24\n",
      "60  2016        20.29\n",
      "61  2017        13.81\n"
     ]
    }
   ],
   "source": [
    "# let's see the data\n",
    "\n",
    "print(df_temp_f)"
   ]
  },
  {
   "cell_type": "code",
   "execution_count": 8,
   "metadata": {},
   "outputs": [],
   "source": [
    "df_rain_f = df_rain.query('Rainfall<6 & Rainfall>0')"
   ]
  },
  {
   "cell_type": "code",
   "execution_count": 9,
   "metadata": {},
   "outputs": [
    {
     "name": "stdout",
     "output_type": "stream",
     "text": [
      "    Year  Rainfall\n",
      "0   1956      1.01\n",
      "1   1957      1.66\n",
      "2   1958      3.50\n",
      "3   1959      3.31\n",
      "4   1960      3.61\n",
      "5   1961      4.71\n",
      "6   1962      2.00\n",
      "7   1963      3.12\n",
      "8   1964      1.96\n",
      "9   1965      3.23\n",
      "10  1966      1.71\n",
      "11  1967      5.00\n",
      "12  1968      1.57\n",
      "14  1970      3.02\n",
      "15  1971      3.92\n",
      "16  1972      1.67\n",
      "17  1973      3.71\n",
      "18  1974      3.50\n",
      "19  1975      3.35\n",
      "20  1976      4.08\n",
      "21  1977      2.75\n",
      "22  1978      2.23\n",
      "24  1980      3.18\n",
      "25  1981      2.34\n",
      "26  1982      2.00\n",
      "27  1983      2.00\n",
      "28  1984      4.30\n",
      "29  1985      3.00\n",
      "30  1986      1.45\n",
      "31  1987      2.50\n",
      "32  1988      3.00\n",
      "33  1989      2.45\n",
      "34  1991      3.60\n",
      "35  1992      2.00\n",
      "36  1993      3.07\n",
      "37  1994      2.31\n",
      "38  1995      5.00\n",
      "39  1996      2.24\n",
      "40  1997      2.54\n",
      "41  1998      3.06\n",
      "42  1999      1.32\n",
      "43  2000      5.60\n",
      "44  2001      3.00\n",
      "45  2002      5.00\n",
      "47  2004      2.05\n",
      "48  2005      3.00\n",
      "49  2006      2.50\n",
      "50  2007      2.60\n",
      "51  2008      5.20\n",
      "52  2009      1.56\n",
      "53  2010      4.34\n",
      "54  2011      3.51\n",
      "55  2012      3.00\n",
      "56  2013      1.50\n",
      "57  2014      1.76\n",
      "59  2016      3.21\n",
      "60  2017      2.00\n"
     ]
    }
   ],
   "source": [
    "print(df_rain_f)"
   ]
  },
  {
   "cell_type": "code",
   "execution_count": 10,
   "metadata": {},
   "outputs": [
    {
     "data": {
      "image/png": "[encoded data removed]",
      "text/plain": [
       "<Figure size 432x288 with 1 Axes>"
      ]
     },
     "metadata": {
      "needs_background": "light"
     },
     "output_type": "display_data"
    }
   ],
   "source": [
    "# visualizing data after outlier removal\n",
    "\n",
    "df_temp_f.plot.scatter(x='Year',y='Temperature',label='Temperature and Year')\n",
    "plt.show()"
   ]
  },
  {
   "cell_type": "code",
   "execution_count": 11,
   "metadata": {},
   "outputs": [
    {
     "data": {
      "image/png": "[encoded data removed]",
      "text/plain": [
       "<Figure size 432x288 with 1 Axes>"
      ]
     },
     "metadata": {
      "needs_background": "light"
     },
     "output_type": "display_data"
    }
   ],
   "source": [
    "df_rain_f.plot.scatter(x='Year',y='Rainfall',label='Rainfall and Year')\n",
    "plt.show()"
   ]
  },
  {
   "cell_type": "code",
   "execution_count": 12,
   "metadata": {},
   "outputs": [
    {
     "name": "stdout",
     "output_type": "stream",
     "text": [
      "    Year  Temperature  Rainfall\n",
      "50  2012        38.01      3.00\n",
      "11  1967        35.26      5.00\n",
      "46  2008        34.81      5.20\n",
      "34  1995        31.27      5.00\n",
      "39  2000        30.40      5.60\n",
      "42  2004        28.55      2.05\n",
      "7   1963        26.88      3.12\n",
      "51  2013        26.41      1.50\n",
      "48  2010        25.56      4.34\n",
      "5   1961        25.29      4.71\n",
      "4   1960        24.59      3.61\n",
      "30  1991        24.06      3.60\n",
      "3   1959        23.68      3.31\n",
      "41  2002        22.23      5.00\n",
      "24  1984        21.70      4.30\n",
      "2   1958        21.01      3.50\n",
      "29  1989        20.69      2.45\n",
      "53  2016        20.29      3.21\n",
      "18  1977        20.29      2.75\n",
      "20  1980        19.82      3.18\n",
      "25  1985        19.65      3.00\n",
      "49  2011        19.49      3.51\n",
      "33  1994        18.69      2.31\n",
      "27  1987        18.35      2.50\n",
      "40  2001        18.29      3.00\n",
      "43  2005        18.04      3.00\n",
      "17  1976        17.92      4.08\n",
      "21  1981        17.81      2.34\n",
      "36  1997        17.46      2.54\n",
      "0   1956        16.99      1.01\n",
      "16  1974        16.97      3.50\n",
      "32  1993        16.93      3.07\n",
      "31  1992        16.31      2.00\n",
      "15  1973        16.29      3.71\n",
      "35  1996        16.04      2.24\n",
      "19  1978        15.77      2.23\n",
      "12  1968        15.42      1.57\n",
      "28  1988        15.06      3.00\n",
      "8   1964        15.04      1.96\n",
      "13  1970        14.83      3.02\n",
      "9   1965        14.78      3.23\n",
      "37  1998        13.94      3.06\n",
      "54  2017        13.81      2.00\n",
      "22  1982        13.37      2.00\n",
      "23  1983        12.69      2.00\n",
      "44  2006        12.54      2.50\n",
      "14  1972        12.33      1.67\n",
      "52  2014        11.24      1.76\n",
      "1   1957        10.34      1.66\n",
      "45  2007        10.29      2.60\n",
      "10  1966        10.27      1.71\n",
      "47  2009         9.94      1.56\n",
      "38  1999         9.68      1.32\n",
      "26  1986         9.55      1.45\n",
      "6   1962         8.77      2.00\n"
     ]
    }
   ],
   "source": [
    "# Combining the data using Pandas Merge\n",
    "\n",
    "df_merge = pd.merge(df_temp_f,df_rain_f,on='Year',how='inner')\n",
    "print(df_merge.sort_values(by='Temperature',ascending=False))"
   ]
  },
  {
   "cell_type": "code",
   "execution_count": 13,
   "metadata": {},
   "outputs": [
    {
     "data": {
      "image/png": "[encoded data removed]",
      "text/plain": [
       "<Figure size 432x432 with 3 Axes>"
      ]
     },
     "metadata": {},
     "output_type": "display_data"
    }
   ],
   "source": [
    "# using Seaborn package to create a regression plot.\n",
    "\n",
    "sns.set(rc={'figure.figsize':(12,6)})\n",
    "\n",
    "sns.jointplot('Rainfall','Temperature',data=df_merge,kind='reg')\n",
    "\n",
    "plt.show()"
   ]
  },
  {
   "cell_type": "code",
   "execution_count": null,
   "metadata": {},
   "outputs": [],
   "source": []
  }
 ],
 "metadata": {
  "kernelspec": {
   "display_name": "Python 3",
   "language": "python",
   "name": "python3"
  },
  "language_info": {
   "codemirror_mode": {
    "name": "ipython",
    "version": 3
   },
   "file_extension": ".py",
   "mimetype": "text/x-python",
   "name": "python",
   "nbconvert_exporter": "python",
   "pygments_lexer": "ipython3",
   "version": "3.8.0"
  }
 },
 "nbformat": 4,
 "nbformat_minor": 4
}
